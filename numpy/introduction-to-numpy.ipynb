{
 "cells": [
  {
   "cell_type": "code",
   "execution_count": 9,
   "id": "e91b2bd3",
   "metadata": {},
   "outputs": [],
   "source": [
    "import numpy as np\n",
    "import pandas as pd"
   ]
  },
  {
   "cell_type": "code",
   "execution_count": 4,
   "id": "ba072413",
   "metadata": {},
   "outputs": [
    {
     "data": {
      "text/plain": [
       "array([1, 2, 3, 4, 5, 6, 7])"
      ]
     },
     "execution_count": 4,
     "metadata": {},
     "output_type": "execute_result"
    }
   ],
   "source": [
    "arr = np.array([1,2,3,4,5,6,7])\n",
    "arr"
   ]
  },
  {
   "cell_type": "code",
   "execution_count": 5,
   "id": "469017dd",
   "metadata": {},
   "outputs": [
    {
     "name": "stdout",
     "output_type": "stream",
     "text": [
      "1.24.3\n"
     ]
    }
   ],
   "source": [
    "# check the numpy version\n",
    "\n",
    "print(np.__version__)\n"
   ]
  },
  {
   "cell_type": "code",
   "execution_count": 6,
   "id": "bd6295d4",
   "metadata": {},
   "outputs": [
    {
     "data": {
      "text/plain": [
       "numpy.ndarray"
      ]
     },
     "execution_count": 6,
     "metadata": {},
     "output_type": "execute_result"
    }
   ],
   "source": [
    "type(arr)"
   ]
  },
  {
   "cell_type": "code",
   "execution_count": 2,
   "id": "71682c74",
   "metadata": {},
   "outputs": [
    {
     "name": "stdout",
     "output_type": "stream",
     "text": [
      "0\n",
      "1\n",
      "2\n",
      "3\n",
      "5\n",
      "[[[[[10]]]]]\n"
     ]
    }
   ],
   "source": [
    "a = np.array(41)\n",
    "b = np.array([22, 33, 44, 66, 78, 100])\n",
    "c = np.array([[1,2,3], [5,6,7]])\n",
    "d = np.array([[[1,2,3], [5,6,7]], [[1,2,3], [4,5,6]]]) \n",
    "\n",
    "e = np.array(10, ndmin=5)\n",
    "\n",
    "\n",
    "print(a.ndim)\n",
    "print(b.ndim)\n",
    "print(c.ndim)\n",
    "print(d.ndim) \n",
    "\n",
    "print(e.ndim)\n",
    "print(e)"
   ]
  },
  {
   "cell_type": "code",
   "execution_count": 18,
   "id": "eee0dcc3",
   "metadata": {},
   "outputs": [
    {
     "name": "stdout",
     "output_type": "stream",
     "text": [
      "7\n"
     ]
    }
   ],
   "source": [
    "print(c[1, -1])"
   ]
  },
  {
   "cell_type": "code",
   "execution_count": 12,
   "id": "f23d853d",
   "metadata": {},
   "outputs": [
    {
     "name": "stdout",
     "output_type": "stream",
     "text": [
      "44\n"
     ]
    }
   ],
   "source": [
    "print(b[2])"
   ]
  },
  {
   "cell_type": "code",
   "execution_count": 13,
   "id": "55ee86bc",
   "metadata": {},
   "outputs": [
    {
     "name": "stdout",
     "output_type": "stream",
     "text": [
      "7\n"
     ]
    }
   ],
   "source": [
    "print(c[1, 2])"
   ]
  },
  {
   "cell_type": "code",
   "execution_count": 15,
   "id": "d1409c09",
   "metadata": {},
   "outputs": [
    {
     "name": "stdout",
     "output_type": "stream",
     "text": [
      "6\n"
     ]
    }
   ],
   "source": [
    "print(d[0, 1, 1])"
   ]
  },
  {
   "cell_type": "code",
   "execution_count": 16,
   "id": "47164cb2",
   "metadata": {},
   "outputs": [
    {
     "name": "stdout",
     "output_type": "stream",
     "text": [
      "3\n"
     ]
    }
   ],
   "source": [
    "print(d[0, 0, 2])"
   ]
  },
  {
   "cell_type": "code",
   "execution_count": 42,
   "id": "9cd62079",
   "metadata": {},
   "outputs": [
    {
     "name": "stdout",
     "output_type": "stream",
     "text": [
      "[22 33 44 66]\n"
     ]
    }
   ],
   "source": [
    "arr = np.array([22, 33, 44, 66, 78, 100, 7, 8])\n",
    "\n",
    "print(arr[:4])"
   ]
  },
  {
   "cell_type": "code",
   "execution_count": null,
   "id": "90846955",
   "metadata": {},
   "outputs": [],
   "source": []
  },
  {
   "cell_type": "code",
   "execution_count": 35,
   "id": "2da53449",
   "metadata": {},
   "outputs": [
    {
     "name": "stdout",
     "output_type": "stream",
     "text": [
      "[ 78 100   7   8]\n"
     ]
    }
   ],
   "source": [
    "print(arr[4:])"
   ]
  },
  {
   "cell_type": "code",
   "execution_count": 36,
   "id": "b5adcb0a",
   "metadata": {},
   "outputs": [
    {
     "name": "stdout",
     "output_type": "stream",
     "text": [
      "[33 44 66]\n"
     ]
    }
   ],
   "source": [
    "print(arr[1 : 4])"
   ]
  },
  {
   "cell_type": "code",
   "execution_count": 37,
   "id": "1a6ce81e",
   "metadata": {},
   "outputs": [
    {
     "name": "stdout",
     "output_type": "stream",
     "text": [
      "[7 8]\n"
     ]
    }
   ],
   "source": [
    "print(arr[-2:])"
   ]
  },
  {
   "cell_type": "code",
   "execution_count": 38,
   "id": "c3d97816",
   "metadata": {},
   "outputs": [
    {
     "name": "stdout",
     "output_type": "stream",
     "text": [
      "[ 33  44  66  78 100]\n"
     ]
    }
   ],
   "source": [
    "print(arr[1 : -2])"
   ]
  },
  {
   "cell_type": "code",
   "execution_count": 39,
   "id": "fa5e3e32",
   "metadata": {},
   "outputs": [
    {
     "name": "stdout",
     "output_type": "stream",
     "text": [
      "[100   7]\n"
     ]
    }
   ],
   "source": [
    "print(arr[-3:-1])"
   ]
  },
  {
   "cell_type": "code",
   "execution_count": 41,
   "id": "806aa95e",
   "metadata": {},
   "outputs": [
    {
     "name": "stdout",
     "output_type": "stream",
     "text": [
      "[22 44 78  7]\n"
     ]
    }
   ],
   "source": [
    "# print step two\n",
    "print(arr[::2])"
   ]
  },
  {
   "cell_type": "code",
   "execution_count": 43,
   "id": "4d038e25",
   "metadata": {},
   "outputs": [
    {
     "name": "stdout",
     "output_type": "stream",
     "text": [
      "[6]\n"
     ]
    }
   ],
   "source": [
    "arr2 = np.array([[1,2,3], [5,6,7]])\n",
    "\n",
    "print(arr2[1, 1:2])"
   ]
  },
  {
   "cell_type": "code",
   "execution_count": 57,
   "id": "dfe02e47",
   "metadata": {},
   "outputs": [
    {
     "name": "stdout",
     "output_type": "stream",
     "text": [
      "[5 6]\n"
     ]
    }
   ],
   "source": [
    "arr3 = np.array([[[1,2,3], [5,6,7]], [[1,2,3], [4,5,6]]])\n",
    "\n",
    "            \n",
    "\n",
    "print(arr3[1, 1, 1:])"
   ]
  },
  {
   "cell_type": "code",
   "execution_count": 4,
   "id": "301294f8",
   "metadata": {},
   "outputs": [
    {
     "name": "stdout",
     "output_type": "stream",
     "text": [
      "int32\n"
     ]
    }
   ],
   "source": [
    "print(b.dtype)"
   ]
  },
  {
   "cell_type": "code",
   "execution_count": 5,
   "id": "e3a9b13d",
   "metadata": {},
   "outputs": [
    {
     "name": "stdout",
     "output_type": "stream",
     "text": [
      "['apple' 'banana' 'cherry']\n"
     ]
    }
   ],
   "source": [
    "fruits = np.array(['apple', 'banana', 'cherry'])\n",
    "print(fruits)"
   ]
  },
  {
   "cell_type": "code",
   "execution_count": 7,
   "id": "53424b1a",
   "metadata": {},
   "outputs": [
    {
     "name": "stdout",
     "output_type": "stream",
     "text": [
      "<U6\n"
     ]
    }
   ],
   "source": [
    "print(fruits.dtype)"
   ]
  },
  {
   "cell_type": "code",
   "execution_count": 8,
   "id": "e9877f2d",
   "metadata": {},
   "outputs": [
    {
     "name": "stdout",
     "output_type": "stream",
     "text": [
      "|S1\n"
     ]
    }
   ],
   "source": [
    "numbers = np.array([1,2,3,4,5], dtype=\"S\")\n",
    "\n",
    "print(numbers.dtype)\n"
   ]
  },
  {
   "cell_type": "code",
   "execution_count": 3,
   "id": "d8e793ed",
   "metadata": {},
   "outputs": [
    {
     "name": "stdout",
     "output_type": "stream",
     "text": [
      "float64\n",
      "int32\n"
     ]
    }
   ],
   "source": [
    "# float to integer\n",
    "\n",
    "arr = np.array([1.1, 1.3, 1.4])\n",
    "\n",
    "# new_arr = arr.astype('i')\n",
    "new_arr = arr.astype(int)\n",
    "\n",
    "\n",
    "print(arr.dtype)\n",
    "print(new_arr.dtype)\n",
    "\n"
   ]
  },
  {
   "cell_type": "code",
   "execution_count": 2,
   "id": "33143ea4",
   "metadata": {},
   "outputs": [
    {
     "name": "stdout",
     "output_type": "stream",
     "text": [
      "[1 0 0 2 3]\n",
      "[ True False False  True  True]\n"
     ]
    }
   ],
   "source": [
    "num = np.array([1, 0, 0, 2, 3])\n",
    "\n",
    "new_arr = num.astype(bool)\n",
    "\n",
    "print(num)\n",
    "print(new_arr)\n"
   ]
  },
  {
   "cell_type": "code",
   "execution_count": 2,
   "id": "06f78f9c",
   "metadata": {},
   "outputs": [
    {
     "name": "stdout",
     "output_type": "stream",
     "text": [
      "[1 2 3 4 5]\n",
      "[ 43   2 400   4   5]\n"
     ]
    }
   ],
   "source": [
    "arr = np.array([1, 2, 3, 4, 5])\n",
    "\n",
    "# dont change orginal array\n",
    "x = arr.copy()\n",
    "\n",
    "x[0] = 43\n",
    "x[2] = 400\n",
    "\n",
    "print(arr)\n",
    "print(x)"
   ]
  },
  {
   "cell_type": "code",
   "execution_count": 3,
   "id": "1b1e909c",
   "metadata": {},
   "outputs": [
    {
     "name": "stdout",
     "output_type": "stream",
     "text": [
      "[30  2  3  4  5]\n",
      "[30  2  3  4  5]\n"
     ]
    }
   ],
   "source": [
    "# it change the orginal array\n",
    "y = arr.view()\n",
    "y[0] = 30\n",
    "\n",
    "print(arr)\n",
    "print(y)\n",
    "\n"
   ]
  },
  {
   "cell_type": "code",
   "execution_count": 36,
   "id": "4e41ef57",
   "metadata": {},
   "outputs": [
    {
     "name": "stdout",
     "output_type": "stream",
     "text": [
      "==\n",
      "[1 2 3 4 5]\n",
      "1\n",
      "2\n",
      "3\n",
      "4\n",
      "5\n",
      "==\n",
      "[1 2 3 4 5]\n",
      "1\n",
      "2\n",
      "3\n",
      "4\n",
      "5\n"
     ]
    }
   ],
   "source": [
    "arr = np.array([[1,2,3,4,5], [1,2,3,4,5]])\n",
    "\n",
    "# print(arr.ndim)\n",
    "# print(arr.shape)\n",
    "\n",
    "for x in arr:\n",
    "    print(\"==\")\n",
    "    print(x)\n",
    "    for y in x:\n",
    "        print(y)\n",
    "\n"
   ]
  },
  {
   "cell_type": "code",
   "execution_count": 19,
   "id": "dacea3e9",
   "metadata": {},
   "outputs": [
    {
     "name": "stdout",
     "output_type": "stream",
     "text": [
      "3\n",
      "(1, 1, 5)\n"
     ]
    }
   ],
   "source": [
    "arr2 = np.array([1,2,3,4,5] , ndmin=3)\n",
    "\n",
    "print(arr2.ndim)\n",
    "print(arr2.shape)\n"
   ]
  },
  {
   "cell_type": "code",
   "execution_count": 29,
   "id": "b5c14843",
   "metadata": {},
   "outputs": [
    {
     "name": "stdout",
     "output_type": "stream",
     "text": [
      "[[[ 1  2]\n",
      "  [ 3  4]\n",
      "  [ 5  6]]\n",
      "\n",
      " [[ 7  8]\n",
      "  [ 9 10]\n",
      "  [11 12]]]\n",
      "(2, 3, 2)\n",
      "[ 1  2  3  4  5  6  7  8  9 10 11 12]\n"
     ]
    }
   ],
   "source": [
    "arr = np.array([1, 2, 3, 4, 5, 6, 7, 8, 9, 10, 11, 12])\n",
    "\n",
    "\n",
    "# new_arr = arr.reshape(4, 3)\n",
    "new_arr = arr.reshape(2, 3, 2)\n",
    "\n",
    "print(arr.reshape(2, 3, 2))\n",
    "print(new_arr.shape)\n",
    "\n",
    "print(arr.reshape(-1))\n",
    "\n"
   ]
  },
  {
   "cell_type": "code",
   "execution_count": 39,
   "id": "f67920ff",
   "metadata": {},
   "outputs": [
    {
     "name": "stdout",
     "output_type": "stream",
     "text": [
      "1\n",
      "2\n",
      "3\n",
      "4\n",
      "5\n",
      "6\n",
      "7\n",
      "8\n",
      "9\n",
      "10\n",
      "11\n",
      "12\n"
     ]
    }
   ],
   "source": [
    "arr = np.array([[[1, 2, 3], [4, 5, 6]], [[7, 8, 9], [10, 11, 12]]])\n",
    "\n",
    "for x in arr:\n",
    "    for y in x:\n",
    "        for z in y:\n",
    "            print(z)\n"
   ]
  },
  {
   "cell_type": "code",
   "execution_count": 43,
   "id": "a471a63f",
   "metadata": {},
   "outputs": [
    {
     "name": "stdout",
     "output_type": "stream",
     "text": [
      "1 2 3 4 5 6 7 8 9 10 11 12 \n",
      "[ 1  2  3  4  5  6  7  8  9 10 11 12]\n"
     ]
    }
   ],
   "source": [
    "# this is other way to iterate 3-D array\n",
    "arr = np.array([[[1, 2, 3], [4, 5, 6]], [[7, 8, 9], [10, 11, 12]]])\n",
    "\n",
    "new_arr = arr.reshape(-1)\n",
    "\n",
    "for x in new_arr:\n",
    "    print(x, end=\" \")\n",
    "print()\n",
    "print(new_arr)\n"
   ]
  },
  {
   "cell_type": "code",
   "execution_count": 44,
   "id": "249d6ac0",
   "metadata": {},
   "outputs": [
    {
     "name": "stdout",
     "output_type": "stream",
     "text": [
      "1\n",
      "2\n",
      "3\n",
      "4\n",
      "5\n",
      "6\n",
      "7\n",
      "8\n",
      "9\n",
      "10\n",
      "11\n",
      "12\n"
     ]
    }
   ],
   "source": [
    "\n",
    "arr = np.array([[[1, 2, 3], [4, 5, 6]], [[7, 8, 9], [10, 11, 12]]])\n",
    "\n",
    "for x in np.nditer(arr):\n",
    "    print(x)\n"
   ]
  },
  {
   "cell_type": "code",
   "execution_count": 47,
   "id": "5f1ee517",
   "metadata": {},
   "outputs": [
    {
     "name": "stdout",
     "output_type": "stream",
     "text": [
      "(0, 0, 0) 1\n",
      "(0, 0, 1) 2\n",
      "(0, 0, 2) 3\n",
      "(0, 1, 0) 4\n",
      "(0, 1, 1) 5\n",
      "(0, 1, 2) 6\n",
      "(1, 0, 0) 7\n",
      "(1, 0, 1) 8\n",
      "(1, 0, 2) 9\n",
      "(1, 1, 0) 10\n",
      "(1, 1, 1) 11\n",
      "(1, 1, 2) 12\n"
     ]
    }
   ],
   "source": [
    "arr = np.array([[[1, 2, 3], [4, 5, 6]], [[7, 8, 9], [10, 11, 12]]])\n",
    "\n",
    "for index, x in np.ndenumerate(arr):\n",
    "    print(index, x)\n"
   ]
  },
  {
   "cell_type": "code",
   "execution_count": 52,
   "id": "d1aba6f4",
   "metadata": {},
   "outputs": [
    {
     "name": "stdout",
     "output_type": "stream",
     "text": [
      "[1 2 3 4 5 6]\n"
     ]
    }
   ],
   "source": [
    "\n",
    "arr1 = np.array([1,2,3])\n",
    "arr2 = np.array([4,5,6])\n",
    "\n",
    "arr = np.concatenate((arr1, arr2))\n",
    "\n",
    "print(arr)"
   ]
  },
  {
   "cell_type": "code",
   "execution_count": 56,
   "id": "682f04ce",
   "metadata": {},
   "outputs": [
    {
     "name": "stdout",
     "output_type": "stream",
     "text": [
      "[[ 1  2  3  7  8  9]\n",
      " [ 4  5  6 10 11 12]]\n"
     ]
    }
   ],
   "source": [
    "\n",
    "arr1 = np.array([[1,2,3],[4,5,6]])\n",
    "arr2 = np.array([[7,8,9],[10,11,12]])\n",
    "\n",
    "\n",
    "# arr = np.concatenate((arr1, arr2))\n",
    "arr = np.concatenate((arr1, arr2), axis=1)\n",
    "\n",
    "print(arr)"
   ]
  },
  {
   "cell_type": "code",
   "execution_count": 58,
   "id": "01318387",
   "metadata": {},
   "outputs": [
    {
     "name": "stdout",
     "output_type": "stream",
     "text": [
      "[[1 4]\n",
      " [2 5]\n",
      " [3 6]]\n"
     ]
    }
   ],
   "source": [
    "arr1 = np.array([1,2,3])\n",
    "arr2 = np.array([4,5,6])\n",
    "\n",
    "\n",
    "arr = np.stack((arr1, arr2), axis=1)\n",
    "print(arr)\n"
   ]
  },
  {
   "cell_type": "code",
   "execution_count": 3,
   "id": "b8e3fad6",
   "metadata": {},
   "outputs": [
    {
     "name": "stdout",
     "output_type": "stream",
     "text": [
      "[1 2 3 4 5 6]\n"
     ]
    }
   ],
   "source": [
    "arr1 = np.array([1,2,3])\n",
    "arr2 = np.array([4,5,6])\n",
    "\n",
    "# row\n",
    "arr = np.hstack((arr1, arr2))\n",
    "print(arr)\n"
   ]
  },
  {
   "cell_type": "code",
   "execution_count": 4,
   "id": "64c52a76",
   "metadata": {},
   "outputs": [
    {
     "name": "stdout",
     "output_type": "stream",
     "text": [
      "[[1 2 3]\n",
      " [4 5 6]]\n"
     ]
    }
   ],
   "source": [
    "arr1 = np.array([1,2,3])\n",
    "arr2 = np.array([4,5,6])\n",
    "\n",
    "# column\n",
    "arr = np.vstack((arr1, arr2))\n",
    "print(arr)"
   ]
  },
  {
   "cell_type": "code",
   "execution_count": 62,
   "id": "c982226d",
   "metadata": {},
   "outputs": [
    {
     "name": "stdout",
     "output_type": "stream",
     "text": [
      "[[[1 4]\n",
      "  [2 5]\n",
      "  [3 6]]]\n"
     ]
    }
   ],
   "source": [
    "arr1 = np.array([1,2,3])\n",
    "arr2 = np.array([4,5,6])\n",
    "\n",
    "\n",
    "arr = np.dstack((arr1, arr2))\n",
    "print(arr)"
   ]
  },
  {
   "cell_type": "code",
   "execution_count": 10,
   "id": "e99164d0",
   "metadata": {},
   "outputs": [
    {
     "name": "stdout",
     "output_type": "stream",
     "text": [
      "[[1 2 3]\n",
      " [4 5 6]\n",
      " [7 8 9]]\n",
      "==\n",
      "[[10 11 12]\n",
      " [13 14 15]]\n",
      "==\n",
      "[[16 17 18]\n",
      " [19 20 21]]\n"
     ]
    }
   ],
   "source": [
    "arr = np.array([[1, 2, 3], [4, 5, 6], [7, 8, 9], [10, 11, 12], [13, 14, 15], [16, 17, 18], [19, 20, 21]])\n",
    "\n",
    "new_arr = np.array_split(arr, 3)\n",
    "# new_arr = np.array_split(arr, 3, axis=1)\n",
    "\n",
    "print(new_arr[0])\n",
    "print(\"==\")\n",
    "print(new_arr[1])\n",
    "print(\"==\")\n",
    "print(new_arr[2])\n"
   ]
  },
  {
   "cell_type": "code",
   "execution_count": 8,
   "id": "0ee86ed4",
   "metadata": {},
   "outputs": [
    {
     "name": "stdout",
     "output_type": "stream",
     "text": [
      "[[ 1]\n",
      " [ 4]\n",
      " [ 7]\n",
      " [10]\n",
      " [13]\n",
      " [16]]\n",
      "==\n",
      "[[ 2]\n",
      " [ 5]\n",
      " [ 8]\n",
      " [11]\n",
      " [14]\n",
      " [17]]\n",
      "==\n",
      "[[ 3]\n",
      " [ 6]\n",
      " [ 9]\n",
      " [12]\n",
      " [15]\n",
      " [18]]\n"
     ]
    }
   ],
   "source": [
    "arr = np.array([[1, 2, 3], [4, 5, 6], [7, 8, 9], [10, 11, 12], [13, 14, 15], [16, 17, 18]])\n",
    "\n",
    "new_arr = np.hsplit(arr, 3)\n",
    "\n",
    "print(new_arr[0])\n",
    "print(\"==\")\n",
    "print(new_arr[1])\n",
    "print(\"==\")\n",
    "print(new_arr[2])"
   ]
  },
  {
   "cell_type": "code",
   "execution_count": 11,
   "id": "31ffbe82",
   "metadata": {},
   "outputs": [
    {
     "name": "stdout",
     "output_type": "stream",
     "text": [
      "(array([3], dtype=int64),)\n"
     ]
    }
   ],
   "source": [
    "arr = np.array([1, 2, 3, 4, 5, 6, 7, 8, 9])\n",
    "\n",
    "#return the index\n",
    "x = np.where(arr == 4)\n",
    "\n",
    "print(x)"
   ]
  },
  {
   "cell_type": "code",
   "execution_count": 12,
   "id": "01f5fc36",
   "metadata": {},
   "outputs": [
    {
     "name": "stdout",
     "output_type": "stream",
     "text": [
      "(array([1, 3, 5], dtype=int64),)\n"
     ]
    }
   ],
   "source": [
    "\n",
    "x = np.where(arr%2 == 0)\n",
    "\n",
    "print(x)"
   ]
  },
  {
   "cell_type": "code",
   "execution_count": 13,
   "id": "3a23ad75",
   "metadata": {},
   "outputs": [
    {
     "name": "stdout",
     "output_type": "stream",
     "text": [
      "(array([0, 2, 4], dtype=int64),)\n"
     ]
    }
   ],
   "source": [
    "x = np.where(arr % 2 == 1)\n",
    "\n",
    "print(x)\n",
    "\n"
   ]
  },
  {
   "cell_type": "code",
   "execution_count": 14,
   "id": "cedc21c9",
   "metadata": {},
   "outputs": [
    {
     "name": "stdout",
     "output_type": "stream",
     "text": [
      "3\n"
     ]
    }
   ],
   "source": [
    "# its working like binary search\n",
    "x = np.searchsorted(arr, 4)\n",
    "print(x)"
   ]
  },
  {
   "cell_type": "code",
   "execution_count": 21,
   "id": "bdf9d224",
   "metadata": {},
   "outputs": [
    {
     "name": "stdout",
     "output_type": "stream",
     "text": [
      "2\n"
     ]
    }
   ],
   "source": [
    "arr = np.array([6, 7, 8, 9])\n",
    "\n",
    "xx = np.searchsorted(arr, 7, side='right')\n",
    "\n",
    "print(xx)"
   ]
  },
  {
   "cell_type": "code",
   "execution_count": 22,
   "id": "5896943f",
   "metadata": {},
   "outputs": [
    {
     "name": "stdout",
     "output_type": "stream",
     "text": [
      "[6 7 8 9]\n"
     ]
    }
   ],
   "source": [
    "print(np.sort(arr))"
   ]
  },
  {
   "cell_type": "code",
   "execution_count": 24,
   "id": "f4fb21a6",
   "metadata": {},
   "outputs": [
    {
     "name": "stdout",
     "output_type": "stream",
     "text": [
      "['apple' 'banana' 'cherry']\n"
     ]
    }
   ],
   "source": [
    "arr = np.array(['banana', 'cherry', 'apple'])\n",
    "\n",
    "print(np.sort(arr))\n"
   ]
  },
  {
   "cell_type": "code",
   "execution_count": 25,
   "id": "66cb4d8c",
   "metadata": {},
   "outputs": [
    {
     "name": "stdout",
     "output_type": "stream",
     "text": [
      "[False False  True  True]\n"
     ]
    }
   ],
   "source": [
    "arr = np.array([True, False, True, False])\n",
    "\n",
    "print(np.sort(arr))\n"
   ]
  },
  {
   "cell_type": "code",
   "execution_count": 27,
   "id": "2885fb60",
   "metadata": {},
   "outputs": [
    {
     "name": "stdout",
     "output_type": "stream",
     "text": [
      "[[-1  3 22]\n",
      " [ 5  9 44]]\n"
     ]
    }
   ],
   "source": [
    "arr1 = np.array([[-1,22,3],[44,5,9]])\n",
    "\n",
    "print(np.sort(arr1))"
   ]
  },
  {
   "cell_type": "code",
   "execution_count": 28,
   "id": "444b8a4b",
   "metadata": {},
   "outputs": [
    {
     "name": "stdout",
     "output_type": "stream",
     "text": [
      "[41 42]\n"
     ]
    }
   ],
   "source": [
    "\n",
    "arr = np.array([41, 45, 59, 42])\n",
    "\n",
    "# ist count olny true array \n",
    "x = [True, False, False, True]\n",
    "\n",
    "new_arr = arr[x]\n",
    "\n",
    "print(new_arr)\n",
    "\n"
   ]
  },
  {
   "cell_type": "code",
   "execution_count": 30,
   "id": "cd47c093",
   "metadata": {},
   "outputs": [
    {
     "name": "stdout",
     "output_type": "stream",
     "text": [
      "[43 44]\n"
     ]
    }
   ],
   "source": [
    "arr = np.array([41, 42, 43, 44])\n",
    "\n",
    "filter_arr = []\n",
    "\n",
    "for x in arr:\n",
    "    if x > 42:\n",
    "        filter_arr.append(True)\n",
    "    else:\n",
    "        filter_arr.append(False)\n",
    "        \n",
    "\n",
    "xx = arr[filter_arr]\n",
    "\n",
    "print(xx)\n",
    "\n"
   ]
  },
  {
   "cell_type": "code",
   "execution_count": 35,
   "id": "9c9d9595",
   "metadata": {},
   "outputs": [
    {
     "name": "stdout",
     "output_type": "stream",
     "text": [
      "[2 4 6]\n"
     ]
    }
   ],
   "source": [
    "arr = np.array([1, 2, 3, 4, 5, 6, 7])\n",
    "\n",
    "filter_arr = arr % 2 == 0\n",
    "\n",
    "xx = arr[filter_arr]\n",
    "print(xx)\n"
   ]
  },
  {
   "cell_type": "code",
   "execution_count": 50,
   "id": "beae2fb6",
   "metadata": {},
   "outputs": [
    {
     "name": "stdout",
     "output_type": "stream",
     "text": [
      "59\n"
     ]
    }
   ],
   "source": [
    "from numpy import random\n",
    "\n",
    "x = random.randint(100)\n",
    "\n",
    "print(x)"
   ]
  },
  {
   "cell_type": "code",
   "execution_count": 57,
   "id": "71607ee4",
   "metadata": {},
   "outputs": [
    {
     "name": "stdout",
     "output_type": "stream",
     "text": [
      "0.7285274409545665\n"
     ]
    }
   ],
   "source": [
    "x = random.rand()\n",
    "\n",
    "print(x)"
   ]
  },
  {
   "cell_type": "code",
   "execution_count": 63,
   "id": "6a77d827",
   "metadata": {},
   "outputs": [
    {
     "name": "stdout",
     "output_type": "stream",
     "text": [
      "[[ 1 73 96  8  1]\n",
      " [19 95 90 94 86]\n",
      " [88 88 34 77 81]\n",
      " [75 75 48 87  9]\n",
      " [85 18 11 63 45]\n",
      " [98 75 13 12 21]\n",
      " [78 40 95 12 30]\n",
      " [50 41 78 76  5]\n",
      " [36 36 97 55 43]\n",
      " [ 7 43 70  2 52]]\n"
     ]
    }
   ],
   "source": [
    "x = random.randint(100, size=(10, 5))\n",
    "\n",
    "print(x)"
   ]
  },
  {
   "cell_type": "code",
   "execution_count": 73,
   "id": "16f4ad8c",
   "metadata": {},
   "outputs": [
    {
     "name": "stdout",
     "output_type": "stream",
     "text": [
      "[[0.86469737 0.0641941  0.85281605 0.92562413 0.86007013]\n",
      " [0.74957223 0.99971197 0.10828553 0.65505159 0.5988651 ]\n",
      " [0.32588389 0.64262905 0.2186156  0.90203211 0.82968501]]\n"
     ]
    }
   ],
   "source": [
    "x = random.rand(3, 5)\n",
    "print(x)"
   ]
  },
  {
   "cell_type": "code",
   "execution_count": 74,
   "id": "cac5ff51",
   "metadata": {},
   "outputs": [
    {
     "name": "stdout",
     "output_type": "stream",
     "text": [
      "[[3 3 1 3]\n",
      " [8 3 5 8]\n",
      " [8 1 5 8]]\n"
     ]
    }
   ],
   "source": [
    "x = random.choice([5, 3, 7, 1, 8], size=(3, 4))\n",
    "print(x)"
   ]
  },
  {
   "cell_type": "code",
   "execution_count": 75,
   "id": "ddea7f6a",
   "metadata": {},
   "outputs": [
    {
     "name": "stdout",
     "output_type": "stream",
     "text": [
      "[15 20 25]\n"
     ]
    }
   ],
   "source": [
    "arr = np.array([10, 15, 20, 25, 30, 35, 40])\n",
    "\n",
    "print(arr\n",
    "[1:4]\n",
    ")"
   ]
  },
  {
   "cell_type": "code",
   "execution_count": 77,
   "id": "cfa7b96e",
   "metadata": {},
   "outputs": [
    {
     "name": "stdout",
     "output_type": "stream",
     "text": [
      "[15 25]\n"
     ]
    }
   ],
   "source": [
    "arr = np.array([10, 15, 20, 25, 30, 35, 40])\n",
    "\n",
    "print(arr[1:4:2])\n",
    "\n"
   ]
  },
  {
   "cell_type": "code",
   "execution_count": 78,
   "id": "e974e45c",
   "metadata": {},
   "outputs": [
    {
     "name": "stdout",
     "output_type": "stream",
     "text": [
      "[10 20 30 40]\n"
     ]
    }
   ],
   "source": [
    "arr = np.array([10, 15, 20, 25, 30, 35, 40])\n",
    "\n",
    "print(arr\n",
    "[::2]\n",
    ")"
   ]
  },
  {
   "cell_type": "code",
   "execution_count": 7,
   "id": "ea6668a4",
   "metadata": {},
   "outputs": [
    {
     "name": "stdout",
     "output_type": "stream",
     "text": [
      "[ True False  True]\n"
     ]
    }
   ],
   "source": [
    "arr = np.array([-1, 0, 1])\n",
    "newarr = arr.astype(bool)\n",
    "print(newarr)"
   ]
  },
  {
   "cell_type": "markdown",
   "id": "c4bcd94f",
   "metadata": {},
   "source": [
    "## Aggregation\n"
   ]
  },
  {
   "cell_type": "code",
   "execution_count": 16,
   "id": "1a900563",
   "metadata": {},
   "outputs": [
    {
     "data": {
      "text/plain": [
       "10000"
      ]
     },
     "execution_count": 16,
     "metadata": {},
     "output_type": "execute_result"
    }
   ],
   "source": [
    "\n",
    "massive_array = np.random.random(10000)\n",
    "massive_array.size"
   ]
  },
  {
   "cell_type": "code",
   "execution_count": 21,
   "id": "729e2502",
   "metadata": {},
   "outputs": [
    {
     "data": {
      "text/plain": [
       "array([0.13337182, 0.20972348, 0.93725942, 0.85999589, 0.89623315,\n",
       "       0.67160389, 0.74210983, 0.26983853, 0.47724614, 0.19344925])"
      ]
     },
     "execution_count": 21,
     "metadata": {},
     "output_type": "execute_result"
    }
   ],
   "source": [
    "massive_array[:10]"
   ]
  },
  {
   "cell_type": "code",
   "execution_count": 22,
   "id": "a8af45e4",
   "metadata": {},
   "outputs": [
    {
     "data": {
      "text/plain": [
       "array([0.13337182, 0.20972348, 0.93725942, ..., 0.2652115 , 0.03884087,\n",
       "       0.06079596])"
      ]
     },
     "execution_count": 22,
     "metadata": {},
     "output_type": "execute_result"
    }
   ],
   "source": [
    "massive_array"
   ]
  },
  {
   "cell_type": "code",
   "execution_count": 23,
   "id": "4a34c2be",
   "metadata": {},
   "outputs": [
    {
     "data": {
      "text/plain": [
       "5015.788687494897"
      ]
     },
     "execution_count": 23,
     "metadata": {},
     "output_type": "execute_result"
    }
   ],
   "source": [
    "sum(massive_array)"
   ]
  },
  {
   "cell_type": "code",
   "execution_count": 24,
   "id": "e51b7060",
   "metadata": {},
   "outputs": [
    {
     "data": {
      "text/plain": [
       "5015.788687494893"
      ]
     },
     "execution_count": 24,
     "metadata": {},
     "output_type": "execute_result"
    }
   ],
   "source": [
    "np.sum(massive_array)"
   ]
  },
  {
   "cell_type": "code",
   "execution_count": 26,
   "id": "1ac01793",
   "metadata": {},
   "outputs": [
    {
     "name": "stdout",
     "output_type": "stream",
     "text": [
      "679 µs ± 9.72 µs per loop (mean ± std. dev. of 7 runs, 1,000 loops each)\n",
      "7.01 µs ± 91.6 ns per loop (mean ± std. dev. of 7 runs, 100,000 loops each)\n"
     ]
    }
   ],
   "source": [
    "%timeit sum(massive_array) # python sum\n",
    "%timeit np.sum(massive_array) # numpy np.sum"
   ]
  },
  {
   "cell_type": "code",
   "execution_count": 3,
   "id": "75c13526",
   "metadata": {},
   "outputs": [],
   "source": [
    "a1 = np.random.random(100)"
   ]
  },
  {
   "cell_type": "code",
   "execution_count": 54,
   "id": "0589e138",
   "metadata": {},
   "outputs": [
    {
     "data": {
      "text/plain": [
       "array([0.04616985, 0.3507477 , 0.51149053, 0.91141371, 0.54532319,\n",
       "       0.31254611, 0.7096165 , 0.00707677, 0.96308254, 0.28614923,\n",
       "       0.71050713, 0.97819627, 0.91362898, 0.95501271, 0.47100394,\n",
       "       0.63615724, 0.95754176, 0.78701313, 0.26938154, 0.5261564 ,\n",
       "       0.97824741, 0.41093618, 0.84130926, 0.22727702, 0.6140045 ,\n",
       "       0.30107493, 0.65243798, 0.37294983, 0.29513292, 0.30278287,\n",
       "       0.84962286, 0.33862345, 0.01245622, 0.29374254, 0.43140719,\n",
       "       0.51953277, 0.52850386, 0.70816106, 0.83054869, 0.94806067,\n",
       "       0.02912047, 0.32706303, 0.38177736, 0.67416762, 0.68446863,\n",
       "       0.51650828, 0.39471874, 0.64866132, 0.99497966, 0.79122087,\n",
       "       0.40274308, 0.0682294 , 0.86068881, 0.82003703, 0.80883515,\n",
       "       0.13923572, 0.92703961, 0.78860956, 0.50778153, 0.63782569,\n",
       "       0.81001007, 0.73201515, 0.27249831, 0.73171256, 0.32627025,\n",
       "       0.84390943, 0.48979685, 0.78589085, 0.10054226, 0.09521326,\n",
       "       0.4422845 , 0.50714486, 0.26212565, 0.45970264, 0.51843266,\n",
       "       0.41769352, 0.44518068, 0.50591448, 0.08934074, 0.34806648,\n",
       "       0.03854893, 0.13500454, 0.60836868, 0.90130682, 0.15041401,\n",
       "       0.07530358, 0.17652641, 0.93530469, 0.10490762, 0.00254717,\n",
       "       0.59170881, 0.14990324, 0.98414721, 0.6939385 , 0.01407974,\n",
       "       0.4676493 , 0.62255436, 0.08648692, 0.68464703, 0.80541985])"
      ]
     },
     "execution_count": 54,
     "metadata": {},
     "output_type": "execute_result"
    }
   ],
   "source": [
    "a1"
   ]
  },
  {
   "cell_type": "code",
   "execution_count": 55,
   "id": "b6d0f440",
   "metadata": {},
   "outputs": [
    {
     "data": {
      "text/plain": [
       "array([0.04616985, 0.3507477 , 0.51149053, 0.91141371, 0.54532319,\n",
       "       0.31254611, 0.7096165 , 0.00707677, 0.96308254, 0.28614923,\n",
       "       0.71050713, 0.97819627, 0.91362898, 0.95501271, 0.47100394,\n",
       "       0.63615724, 0.95754176, 0.78701313, 0.26938154, 0.5261564 ,\n",
       "       0.97824741, 0.41093618, 0.84130926, 0.22727702, 0.6140045 ,\n",
       "       0.30107493, 0.65243798, 0.37294983, 0.29513292, 0.30278287,\n",
       "       0.84962286, 0.33862345, 0.01245622, 0.29374254, 0.43140719,\n",
       "       0.51953277, 0.52850386, 0.70816106, 0.83054869, 0.94806067,\n",
       "       0.02912047, 0.32706303, 0.38177736, 0.67416762, 0.68446863,\n",
       "       0.51650828, 0.39471874, 0.64866132, 0.99497966, 0.79122087,\n",
       "       0.40274308, 0.0682294 , 0.86068881, 0.82003703, 0.80883515,\n",
       "       0.13923572, 0.92703961, 0.78860956, 0.50778153, 0.63782569,\n",
       "       0.81001007, 0.73201515, 0.27249831, 0.73171256, 0.32627025,\n",
       "       0.84390943, 0.48979685, 0.78589085, 0.10054226, 0.09521326,\n",
       "       0.4422845 , 0.50714486, 0.26212565, 0.45970264, 0.51843266,\n",
       "       0.41769352, 0.44518068, 0.50591448, 0.08934074, 0.34806648,\n",
       "       0.03854893, 0.13500454, 0.60836868, 0.90130682, 0.15041401,\n",
       "       0.07530358, 0.17652641, 0.93530469, 0.10490762, 0.00254717,\n",
       "       0.59170881, 0.14990324, 0.98414721, 0.6939385 , 0.01407974,\n",
       "       0.4676493 , 0.62255436, 0.08648692, 0.68464703, 0.80541985])"
      ]
     },
     "execution_count": 55,
     "metadata": {},
     "output_type": "execute_result"
    }
   ],
   "source": [
    "a1"
   ]
  },
  {
   "cell_type": "code",
   "execution_count": 58,
   "id": "430aa9e7",
   "metadata": {
    "scrolled": true
   },
   "outputs": [
    {
     "data": {
      "text/plain": [
       "0.2924165196929205"
      ]
     },
     "execution_count": 58,
     "metadata": {},
     "output_type": "execute_result"
    }
   ],
   "source": [
    "# standard Deviation\n",
    "np.std(a1)"
   ]
  },
  {
   "cell_type": "code",
   "execution_count": 7,
   "id": "0438f805",
   "metadata": {
    "scrolled": true
   },
   "outputs": [
    {
     "data": {
      "text/plain": [
       "0.07602539844566614"
      ]
     },
     "execution_count": 7,
     "metadata": {},
     "output_type": "execute_result"
    }
   ],
   "source": [
    "# Variance = measure of the average degree to which each number is difference to the mean\n",
    "# Higher variance = wider range of numbers\n",
    "# lower variance = lower range of numbers\n",
    "np.var(a1)"
   ]
  },
  {
   "cell_type": "code",
   "execution_count": 8,
   "id": "077b7ec3",
   "metadata": {
    "scrolled": true
   },
   "outputs": [
    {
     "data": {
      "text/plain": [
       "0.2757270361166386"
      ]
     },
     "execution_count": 8,
     "metadata": {},
     "output_type": "execute_result"
    }
   ],
   "source": [
    "\n",
    "# standard Deviation = Squireroot of variance\n",
    "\n",
    "np.sqrt(np.var(a1))\n",
    "\n"
   ]
  },
  {
   "cell_type": "code",
   "execution_count": 5,
   "id": "2e53a122",
   "metadata": {},
   "outputs": [],
   "source": [
    "# Demo of std and var\n",
    "\n",
    "high_var_array = np.array([1, 100, 200, 300, 4000, 5000])\n",
    "low_var_array = np.array([2, 4, 6, 8, 10])\n"
   ]
  },
  {
   "cell_type": "code",
   "execution_count": 6,
   "id": "9eb84904",
   "metadata": {
    "scrolled": true
   },
   "outputs": [
    {
     "data": {
      "text/plain": [
       "(4296133.472222221, 8.0)"
      ]
     },
     "execution_count": 6,
     "metadata": {},
     "output_type": "execute_result"
    }
   ],
   "source": [
    "np.var(high_var_array), np.var(low_var_array)"
   ]
  },
  {
   "cell_type": "code",
   "execution_count": 9,
   "id": "279dac32",
   "metadata": {},
   "outputs": [],
   "source": [
    "arr = np.array([1, 2, 3, 4, 5, 6, 7, 8, 9, 10, 11, 12])\n",
    "\n",
    "newarr = arr.reshape(2, 3, 2)\n"
   ]
  },
  {
   "cell_type": "code",
   "execution_count": 11,
   "id": "f1d0e919",
   "metadata": {},
   "outputs": [
    {
     "data": {
      "text/plain": [
       "(2, 3, 2)"
      ]
     },
     "execution_count": 11,
     "metadata": {},
     "output_type": "execute_result"
    }
   ],
   "source": [
    "newarr.shape"
   ]
  },
  {
   "cell_type": "code",
   "execution_count": 12,
   "id": "b2b6b9f4",
   "metadata": {},
   "outputs": [
    {
     "data": {
      "text/plain": [
       "3"
      ]
     },
     "execution_count": 12,
     "metadata": {},
     "output_type": "execute_result"
    }
   ],
   "source": [
    "newarr.ndim"
   ]
  },
  {
   "cell_type": "code",
   "execution_count": 36,
   "id": "17883f31",
   "metadata": {},
   "outputs": [],
   "source": [
    "a1 = np.array([[1,2,3], [4,5,6]])"
   ]
  },
  {
   "cell_type": "code",
   "execution_count": 14,
   "id": "316e97d8",
   "metadata": {},
   "outputs": [
    {
     "data": {
      "text/plain": [
       "(2, 3)"
      ]
     },
     "execution_count": 14,
     "metadata": {},
     "output_type": "execute_result"
    }
   ],
   "source": [
    "a1.shape"
   ]
  },
  {
   "cell_type": "code",
   "execution_count": 15,
   "id": "0216d333",
   "metadata": {},
   "outputs": [],
   "source": [
    "a2 = np.array([[[1,2,3], [4,5,6], [7,8,9]], [[10,11,12], [13,14,15], [16,17,17]]])"
   ]
  },
  {
   "cell_type": "code",
   "execution_count": 18,
   "id": "bdfd276a",
   "metadata": {
    "scrolled": false
   },
   "outputs": [
    {
     "data": {
      "text/plain": [
       "(2, 3, 3)"
      ]
     },
     "execution_count": 18,
     "metadata": {},
     "output_type": "execute_result"
    }
   ],
   "source": [
    "a2.shape"
   ]
  },
  {
   "cell_type": "code",
   "execution_count": 19,
   "id": "1b0dde18",
   "metadata": {
    "scrolled": true
   },
   "outputs": [
    {
     "ename": "ValueError",
     "evalue": "operands could not be broadcast together with shapes (2,3) (2,3,3) ",
     "output_type": "error",
     "traceback": [
      "\u001b[1;31m---------------------------------------------------------------------------\u001b[0m",
      "\u001b[1;31mValueError\u001b[0m                                Traceback (most recent call last)",
      "Cell \u001b[1;32mIn[19], line 1\u001b[0m\n\u001b[1;32m----> 1\u001b[0m a1 \u001b[38;5;241m*\u001b[39m a2\n",
      "\u001b[1;31mValueError\u001b[0m: operands could not be broadcast together with shapes (2,3) (2,3,3) "
     ]
    }
   ],
   "source": [
    "a1 * a2"
   ]
  },
  {
   "cell_type": "code",
   "execution_count": 30,
   "id": "4f06d584",
   "metadata": {},
   "outputs": [],
   "source": [
    "a1 = a1.reshape(2, 3, 1)"
   ]
  },
  {
   "cell_type": "code",
   "execution_count": 34,
   "id": "0fd44094",
   "metadata": {},
   "outputs": [
    {
     "data": {
      "text/plain": [
       "array([[[1],\n",
       "        [2],\n",
       "        [3]],\n",
       "\n",
       "       [[4],\n",
       "        [5],\n",
       "        [6]]])"
      ]
     },
     "execution_count": 34,
     "metadata": {},
     "output_type": "execute_result"
    }
   ],
   "source": [
    "a1"
   ]
  },
  {
   "cell_type": "code",
   "execution_count": 31,
   "id": "e046f918",
   "metadata": {
    "scrolled": true
   },
   "outputs": [
    {
     "data": {
      "text/plain": [
       "(2, 3, 1)"
      ]
     },
     "execution_count": 31,
     "metadata": {},
     "output_type": "execute_result"
    }
   ],
   "source": [
    "a1.shape"
   ]
  },
  {
   "cell_type": "code",
   "execution_count": 37,
   "id": "9753a713",
   "metadata": {},
   "outputs": [
    {
     "data": {
      "text/plain": [
       "array([[1, 2, 3],\n",
       "       [4, 5, 6]])"
      ]
     },
     "execution_count": 37,
     "metadata": {},
     "output_type": "execute_result"
    }
   ],
   "source": [
    "a1"
   ]
  },
  {
   "cell_type": "code",
   "execution_count": 32,
   "id": "20990e37",
   "metadata": {},
   "outputs": [
    {
     "data": {
      "text/plain": [
       "array([[[  1,   2,   3],\n",
       "        [  8,  10,  12],\n",
       "        [ 21,  24,  27]],\n",
       "\n",
       "       [[ 40,  44,  48],\n",
       "        [ 65,  70,  75],\n",
       "        [ 96, 102, 102]]])"
      ]
     },
     "execution_count": 32,
     "metadata": {},
     "output_type": "execute_result"
    }
   ],
   "source": [
    "a1 * a2"
   ]
  },
  {
   "cell_type": "code",
   "execution_count": 44,
   "id": "344c1d7e",
   "metadata": {},
   "outputs": [
    {
     "data": {
      "text/plain": [
       "array([[1, 2, 3],\n",
       "       [4, 5, 6]])"
      ]
     },
     "execution_count": 44,
     "metadata": {},
     "output_type": "execute_result"
    }
   ],
   "source": [
    "a1"
   ]
  },
  {
   "cell_type": "code",
   "execution_count": 45,
   "id": "268edcb9",
   "metadata": {
    "scrolled": true
   },
   "outputs": [
    {
     "data": {
      "text/plain": [
       "(2, 3)"
      ]
     },
     "execution_count": 45,
     "metadata": {},
     "output_type": "execute_result"
    }
   ],
   "source": [
    "a1.shape"
   ]
  },
  {
   "cell_type": "code",
   "execution_count": 46,
   "id": "c0fe862d",
   "metadata": {},
   "outputs": [
    {
     "data": {
      "text/plain": [
       "array([[1, 4],\n",
       "       [2, 5],\n",
       "       [3, 6]])"
      ]
     },
     "execution_count": 46,
     "metadata": {},
     "output_type": "execute_result"
    }
   ],
   "source": [
    "# Transpose\n",
    "a1.T"
   ]
  },
  {
   "cell_type": "markdown",
   "id": "61a89b32",
   "metadata": {},
   "source": [
    "## Dot product "
   ]
  },
  {
   "cell_type": "code",
   "execution_count": 48,
   "id": "edcc65cd",
   "metadata": {},
   "outputs": [
    {
     "data": {
      "text/plain": [
       "15"
      ]
     },
     "execution_count": 48,
     "metadata": {},
     "output_type": "execute_result"
    }
   ],
   "source": [
    "np.dot(3, 5)"
   ]
  },
  {
   "cell_type": "code",
   "execution_count": 59,
   "id": "858e7fcc",
   "metadata": {},
   "outputs": [],
   "source": [
    "np.random.seed(0)\n",
    "mat1 = np.random.randint(10, size=(5, 3))\n",
    "mat2 = np.random.randint(10, size=(5, 3))"
   ]
  },
  {
   "cell_type": "code",
   "execution_count": 66,
   "id": "dc11a631",
   "metadata": {},
   "outputs": [
    {
     "data": {
      "text/plain": [
       "array([[5, 0, 3],\n",
       "       [3, 7, 9],\n",
       "       [3, 5, 2],\n",
       "       [4, 7, 6],\n",
       "       [8, 8, 1]])"
      ]
     },
     "execution_count": 66,
     "metadata": {},
     "output_type": "execute_result"
    }
   ],
   "source": [
    "mat1"
   ]
  },
  {
   "cell_type": "code",
   "execution_count": 76,
   "id": "b0d399fb",
   "metadata": {
    "scrolled": true
   },
   "outputs": [
    {
     "data": {
      "text/plain": [
       "(array([[5, 0, 3],\n",
       "        [3, 7, 9],\n",
       "        [3, 5, 2],\n",
       "        [4, 7, 6],\n",
       "        [8, 8, 1]]),\n",
       " array([[6, 7, 7],\n",
       "        [8, 1, 5],\n",
       "        [9, 8, 9],\n",
       "        [4, 3, 0],\n",
       "        [3, 5, 0]]))"
      ]
     },
     "execution_count": 76,
     "metadata": {},
     "output_type": "execute_result"
    }
   ],
   "source": [
    "mat1, mat2"
   ]
  },
  {
   "cell_type": "code",
   "execution_count": 80,
   "id": "e3157b30",
   "metadata": {},
   "outputs": [
    {
     "data": {
      "text/plain": [
       "array([[6, 5, 3],\n",
       "       [7, 9, 0],\n",
       "       [7, 8, 3],\n",
       "       [8, 9, 5],\n",
       "       [1, 4, 0]])"
      ]
     },
     "execution_count": 80,
     "metadata": {},
     "output_type": "execute_result"
    }
   ],
   "source": [
    "mat2.T"
   ]
  },
  {
   "cell_type": "code",
   "execution_count": 81,
   "id": "c03b16ce",
   "metadata": {},
   "outputs": [
    {
     "data": {
      "text/plain": [
       "((5, 3), (3, 5))"
      ]
     },
     "execution_count": 81,
     "metadata": {},
     "output_type": "execute_result"
    }
   ],
   "source": [
    "mat1.shape, mat2.shape"
   ]
  },
  {
   "cell_type": "code",
   "execution_count": 82,
   "id": "e1dd9a68",
   "metadata": {},
   "outputs": [
    {
     "ename": "ValueError",
     "evalue": "operands could not be broadcast together with shapes (5,3) (3,5) ",
     "output_type": "error",
     "traceback": [
      "\u001b[1;31m---------------------------------------------------------------------------\u001b[0m",
      "\u001b[1;31mValueError\u001b[0m                                Traceback (most recent call last)",
      "Cell \u001b[1;32mIn[82], line 2\u001b[0m\n\u001b[0;32m      1\u001b[0m \u001b[38;5;66;03m# Element wise multiplication \u001b[39;00m\n\u001b[1;32m----> 2\u001b[0m mat1 \u001b[38;5;241m*\u001b[39m mat2\n",
      "\u001b[1;31mValueError\u001b[0m: operands could not be broadcast together with shapes (5,3) (3,5) "
     ]
    }
   ],
   "source": [
    "# Element wise multiplication \n",
    "mat1 * mat2"
   ]
  },
  {
   "cell_type": "code",
   "execution_count": 83,
   "id": "bd3ce2a7",
   "metadata": {},
   "outputs": [
    {
     "data": {
      "text/plain": [
       "array([[ 39,  35,  44,  55,   5],\n",
       "       [ 80,  84, 104, 132,  31],\n",
       "       [ 49,  66,  67,  79,  23],\n",
       "       [ 77,  91, 102, 125,  32],\n",
       "       [ 91, 128, 123, 141,  40]])"
      ]
     },
     "execution_count": 83,
     "metadata": {},
     "output_type": "execute_result"
    }
   ],
   "source": [
    "# dot products\n",
    "\n",
    "np.dot(mat1, mat2)\n"
   ]
  },
  {
   "cell_type": "markdown",
   "id": "15358b15",
   "metadata": {},
   "source": [
    "## Dot product example (Nut butter sale)"
   ]
  },
  {
   "cell_type": "code",
   "execution_count": 70,
   "id": "36d443e0",
   "metadata": {},
   "outputs": [
    {
     "data": {
      "text/plain": [
       "array([[12, 15,  0],\n",
       "       [ 3,  3,  7],\n",
       "       [ 9, 19, 18],\n",
       "       [ 4,  6, 12],\n",
       "       [ 1,  6,  7]])"
      ]
     },
     "execution_count": 70,
     "metadata": {},
     "output_type": "execute_result"
    }
   ],
   "source": [
    "np.random.seed(0)\n",
    "\n",
    "sales_amount = np.random.randint(20, size=(5, 3))\n",
    "\n",
    "sales_amount\n"
   ]
  },
  {
   "cell_type": "code",
   "execution_count": 11,
   "id": "bf3f4771",
   "metadata": {},
   "outputs": [
    {
     "data": {
      "text/html": [
       "<div>\n",
       "<style scoped>\n",
       "    .dataframe tbody tr th:only-of-type {\n",
       "        vertical-align: middle;\n",
       "    }\n",
       "\n",
       "    .dataframe tbody tr th {\n",
       "        vertical-align: top;\n",
       "    }\n",
       "\n",
       "    .dataframe thead th {\n",
       "        text-align: right;\n",
       "    }\n",
       "</style>\n",
       "<table border=\"1\" class=\"dataframe\">\n",
       "  <thead>\n",
       "    <tr style=\"text-align: right;\">\n",
       "      <th></th>\n",
       "      <th>Almond butter</th>\n",
       "      <th>Peanut Butter</th>\n",
       "      <th>Cashew Butter</th>\n",
       "    </tr>\n",
       "  </thead>\n",
       "  <tbody>\n",
       "    <tr>\n",
       "      <th>Mon</th>\n",
       "      <td>12</td>\n",
       "      <td>15</td>\n",
       "      <td>0</td>\n",
       "    </tr>\n",
       "    <tr>\n",
       "      <th>Sat</th>\n",
       "      <td>3</td>\n",
       "      <td>3</td>\n",
       "      <td>7</td>\n",
       "    </tr>\n",
       "    <tr>\n",
       "      <th>Tue</th>\n",
       "      <td>9</td>\n",
       "      <td>19</td>\n",
       "      <td>18</td>\n",
       "    </tr>\n",
       "    <tr>\n",
       "      <th>Wed</th>\n",
       "      <td>4</td>\n",
       "      <td>6</td>\n",
       "      <td>12</td>\n",
       "    </tr>\n",
       "    <tr>\n",
       "      <th>Thurs</th>\n",
       "      <td>1</td>\n",
       "      <td>6</td>\n",
       "      <td>7</td>\n",
       "    </tr>\n",
       "  </tbody>\n",
       "</table>\n",
       "</div>"
      ],
      "text/plain": [
       "       Almond butter  Peanut Butter  Cashew Butter\n",
       "Mon               12             15              0\n",
       "Sat                3              3              7\n",
       "Tue                9             19             18\n",
       "Wed                4              6             12\n",
       "Thurs              1              6              7"
      ]
     },
     "execution_count": 11,
     "metadata": {},
     "output_type": "execute_result"
    }
   ],
   "source": [
    "weekly_sales = pd.DataFrame(sales_amount,\n",
    "                           index=[\"Mon\", \"Sat\", \"Tue\", \"Wed\", \"Thurs\"],\n",
    "                           columns=[\"Almond butter\", \"Peanut Butter\", \"Cashew Butter\"])\n",
    "\n",
    "weekly_sales\n"
   ]
  },
  {
   "cell_type": "code",
   "execution_count": 24,
   "id": "dd73648d",
   "metadata": {},
   "outputs": [
    {
     "data": {
      "text/html": [
       "<div>\n",
       "<style scoped>\n",
       "    .dataframe tbody tr th:only-of-type {\n",
       "        vertical-align: middle;\n",
       "    }\n",
       "\n",
       "    .dataframe tbody tr th {\n",
       "        vertical-align: top;\n",
       "    }\n",
       "\n",
       "    .dataframe thead th {\n",
       "        text-align: right;\n",
       "    }\n",
       "</style>\n",
       "<table border=\"1\" class=\"dataframe\">\n",
       "  <thead>\n",
       "    <tr style=\"text-align: right;\">\n",
       "      <th></th>\n",
       "      <th>Almond butter</th>\n",
       "      <th>Peanut Butter</th>\n",
       "      <th>Cashew Butter</th>\n",
       "    </tr>\n",
       "  </thead>\n",
       "  <tbody>\n",
       "    <tr>\n",
       "      <th>Price</th>\n",
       "      <td>10</td>\n",
       "      <td>8</td>\n",
       "      <td>12</td>\n",
       "    </tr>\n",
       "  </tbody>\n",
       "</table>\n",
       "</div>"
      ],
      "text/plain": [
       "       Almond butter  Peanut Butter  Cashew Butter\n",
       "Price             10              8             12"
      ]
     },
     "execution_count": 24,
     "metadata": {},
     "output_type": "execute_result"
    }
   ],
   "source": [
    "# create butter price dataframe\n",
    "\n",
    "butter_price = pd.DataFrame(price.reshape(1, 3), \n",
    "                           index=[\"Price\"],\n",
    "                           columns=[\"Almond butter\", \"Peanut Butter\", \"Cashew Butter\"])\n",
    "\n",
    "butter_price"
   ]
  },
  {
   "cell_type": "code",
   "execution_count": 91,
   "id": "c7c816db",
   "metadata": {},
   "outputs": [],
   "source": [
    "# total_sales = sales_amount.dot(price.T)\n",
    "daily_sales = butter_price.dot(weekly_sales.T)"
   ]
  },
  {
   "cell_type": "code",
   "execution_count": 96,
   "id": "22d11a83",
   "metadata": {},
   "outputs": [
    {
     "data": {
      "text/html": [
       "<div>\n",
       "<style scoped>\n",
       "    .dataframe tbody tr th:only-of-type {\n",
       "        vertical-align: middle;\n",
       "    }\n",
       "\n",
       "    .dataframe tbody tr th {\n",
       "        vertical-align: top;\n",
       "    }\n",
       "\n",
       "    .dataframe thead th {\n",
       "        text-align: right;\n",
       "    }\n",
       "</style>\n",
       "<table border=\"1\" class=\"dataframe\">\n",
       "  <thead>\n",
       "    <tr style=\"text-align: right;\">\n",
       "      <th></th>\n",
       "      <th>Mon</th>\n",
       "      <th>Sat</th>\n",
       "      <th>Tue</th>\n",
       "      <th>Wed</th>\n",
       "      <th>Thurs</th>\n",
       "    </tr>\n",
       "  </thead>\n",
       "  <tbody>\n",
       "    <tr>\n",
       "      <th>Price</th>\n",
       "      <td>240</td>\n",
       "      <td>138</td>\n",
       "      <td>458</td>\n",
       "      <td>232</td>\n",
       "      <td>142</td>\n",
       "    </tr>\n",
       "  </tbody>\n",
       "</table>\n",
       "</div>"
      ],
      "text/plain": [
       "       Mon  Sat  Tue  Wed  Thurs\n",
       "Price  240  138  458  232    142"
      ]
     },
     "execution_count": 96,
     "metadata": {},
     "output_type": "execute_result"
    }
   ],
   "source": [
    "daily_sales"
   ]
  },
  {
   "cell_type": "code",
   "execution_count": 101,
   "id": "bb058862",
   "metadata": {},
   "outputs": [
    {
     "data": {
      "text/plain": [
       "(1, 5)"
      ]
     },
     "execution_count": 101,
     "metadata": {},
     "output_type": "execute_result"
    }
   ],
   "source": [
    "daily_sales.shape"
   ]
  },
  {
   "cell_type": "code",
   "execution_count": 99,
   "id": "22c0a89a",
   "metadata": {},
   "outputs": [
    {
     "data": {
      "text/plain": [
       "(5, 4)"
      ]
     },
     "execution_count": 99,
     "metadata": {},
     "output_type": "execute_result"
    }
   ],
   "source": [
    "weekly_sales.shape"
   ]
  },
  {
   "cell_type": "code",
   "execution_count": 94,
   "id": "4c340ba5",
   "metadata": {},
   "outputs": [],
   "source": [
    "#create daily sale\n",
    "weekly_sales['Total'] = daily_sales.T"
   ]
  },
  {
   "cell_type": "code",
   "execution_count": 95,
   "id": "94020c90",
   "metadata": {},
   "outputs": [
    {
     "data": {
      "text/html": [
       "<div>\n",
       "<style scoped>\n",
       "    .dataframe tbody tr th:only-of-type {\n",
       "        vertical-align: middle;\n",
       "    }\n",
       "\n",
       "    .dataframe tbody tr th {\n",
       "        vertical-align: top;\n",
       "    }\n",
       "\n",
       "    .dataframe thead th {\n",
       "        text-align: right;\n",
       "    }\n",
       "</style>\n",
       "<table border=\"1\" class=\"dataframe\">\n",
       "  <thead>\n",
       "    <tr style=\"text-align: right;\">\n",
       "      <th></th>\n",
       "      <th>Almond butter</th>\n",
       "      <th>Peanut Butter</th>\n",
       "      <th>Cashew Butter</th>\n",
       "      <th>Total</th>\n",
       "    </tr>\n",
       "  </thead>\n",
       "  <tbody>\n",
       "    <tr>\n",
       "      <th>Mon</th>\n",
       "      <td>12</td>\n",
       "      <td>15</td>\n",
       "      <td>0</td>\n",
       "      <td>240</td>\n",
       "    </tr>\n",
       "    <tr>\n",
       "      <th>Sat</th>\n",
       "      <td>3</td>\n",
       "      <td>3</td>\n",
       "      <td>7</td>\n",
       "      <td>138</td>\n",
       "    </tr>\n",
       "    <tr>\n",
       "      <th>Tue</th>\n",
       "      <td>9</td>\n",
       "      <td>19</td>\n",
       "      <td>18</td>\n",
       "      <td>458</td>\n",
       "    </tr>\n",
       "    <tr>\n",
       "      <th>Wed</th>\n",
       "      <td>4</td>\n",
       "      <td>6</td>\n",
       "      <td>12</td>\n",
       "      <td>232</td>\n",
       "    </tr>\n",
       "    <tr>\n",
       "      <th>Thurs</th>\n",
       "      <td>1</td>\n",
       "      <td>6</td>\n",
       "      <td>7</td>\n",
       "      <td>142</td>\n",
       "    </tr>\n",
       "  </tbody>\n",
       "</table>\n",
       "</div>"
      ],
      "text/plain": [
       "       Almond butter  Peanut Butter  Cashew Butter  Total\n",
       "Mon               12             15              0    240\n",
       "Sat                3              3              7    138\n",
       "Tue                9             19             18    458\n",
       "Wed                4              6             12    232\n",
       "Thurs              1              6              7    142"
      ]
     },
     "execution_count": 95,
     "metadata": {},
     "output_type": "execute_result"
    }
   ],
   "source": [
    "weekly_sales"
   ]
  },
  {
   "cell_type": "markdown",
   "id": "ae27345c",
   "metadata": {},
   "source": [
    "## sorting"
   ]
  },
  {
   "cell_type": "code",
   "execution_count": 103,
   "id": "9de731e0",
   "metadata": {},
   "outputs": [
    {
     "data": {
      "text/plain": [
       "array([[14, 17,  5, 13,  8],\n",
       "       [ 9, 19, 16, 19,  5],\n",
       "       [15, 15,  0, 18,  3]])"
      ]
     },
     "execution_count": 103,
     "metadata": {},
     "output_type": "execute_result"
    }
   ],
   "source": [
    "random_array = np.random.randint(20, size=(3, 5))\n",
    "random_array"
   ]
  },
  {
   "cell_type": "code",
   "execution_count": 104,
   "id": "e74f5c64",
   "metadata": {},
   "outputs": [
    {
     "data": {
      "text/plain": [
       "array([[ 5,  8, 13, 14, 17],\n",
       "       [ 5,  9, 16, 19, 19],\n",
       "       [ 0,  3, 15, 15, 18]])"
      ]
     },
     "execution_count": 104,
     "metadata": {},
     "output_type": "execute_result"
    }
   ],
   "source": [
    "np.sort(random_array)"
   ]
  },
  {
   "cell_type": "code",
   "execution_count": 108,
   "id": "77c99cb6",
   "metadata": {},
   "outputs": [
    {
     "data": {
      "text/plain": [
       "array([[2, 4, 3, 0, 1],\n",
       "       [4, 0, 2, 1, 3],\n",
       "       [2, 4, 0, 1, 3]], dtype=int64)"
      ]
     },
     "execution_count": 108,
     "metadata": {},
     "output_type": "execute_result"
    }
   ],
   "source": [
    "# show element wise index\n",
    "np.argsort(random_array)"
   ]
  },
  {
   "cell_type": "code",
   "execution_count": 109,
   "id": "7c6e52ac",
   "metadata": {
    "scrolled": true
   },
   "outputs": [
    {
     "data": {
      "text/plain": [
       "array([[14, 17,  5, 13,  8],\n",
       "       [ 9, 19, 16, 19,  5],\n",
       "       [15, 15,  0, 18,  3]])"
      ]
     },
     "execution_count": 109,
     "metadata": {},
     "output_type": "execute_result"
    }
   ],
   "source": [
    "random_array"
   ]
  },
  {
   "cell_type": "code",
   "execution_count": 107,
   "id": "876dc615",
   "metadata": {},
   "outputs": [
    {
     "data": {
      "text/plain": [
       "array([2, 1, 1, 1, 0], dtype=int64)"
      ]
     },
     "execution_count": 107,
     "metadata": {},
     "output_type": "execute_result"
    }
   ],
   "source": [
    "# axis=0 means column\n",
    "np.argmax(random_array, axis=0)"
   ]
  },
  {
   "cell_type": "code",
   "execution_count": 110,
   "id": "4e5fdff7",
   "metadata": {},
   "outputs": [
    {
     "data": {
      "text/plain": [
       "array([1, 1, 3], dtype=int64)"
      ]
     },
     "execution_count": 110,
     "metadata": {},
     "output_type": "execute_result"
    }
   ],
   "source": [
    "# axis=1 means row\n",
    "np.argmax(random_array, axis=1)"
   ]
  },
  {
   "cell_type": "markdown",
   "id": "3a4d450c",
   "metadata": {},
   "source": [
    "## Practical example numpy in action"
   ]
  },
  {
   "cell_type": "code",
   "execution_count": 119,
   "id": "7997c591",
   "metadata": {},
   "outputs": [],
   "source": [
    "from matplotlib.image import imread"
   ]
  },
  {
   "cell_type": "code",
   "execution_count": 121,
   "id": "a283f6fb",
   "metadata": {},
   "outputs": [
    {
     "name": "stdout",
     "output_type": "stream",
     "text": [
      "<class 'numpy.ndarray'>\n"
     ]
    }
   ],
   "source": [
    "img_arr = imread('images/cat.png')\n",
    "print(type(img))"
   ]
  },
  {
   "cell_type": "code",
   "execution_count": 122,
   "id": "b451a05f",
   "metadata": {},
   "outputs": [
    {
     "data": {
      "text/plain": [
       "array([[[0.30588236, 0.36862746, 0.43137255, 1.        ],\n",
       "        [0.30980393, 0.37254903, 0.43529412, 1.        ],\n",
       "        [0.3137255 , 0.3764706 , 0.4392157 , 1.        ],\n",
       "        ...,\n",
       "        [0.54509807, 0.5921569 , 0.65882355, 1.        ],\n",
       "        [0.5568628 , 0.58431375, 0.6313726 , 1.        ],\n",
       "        [0.5686275 , 0.5803922 , 0.6       , 1.        ]],\n",
       "\n",
       "       [[0.28627452, 0.34901962, 0.40784314, 1.        ],\n",
       "        [0.29411766, 0.35686275, 0.41568628, 1.        ],\n",
       "        [0.29803923, 0.36078432, 0.41960785, 1.        ],\n",
       "        ...,\n",
       "        [0.54901963, 0.59607846, 0.6627451 , 1.        ],\n",
       "        [0.5568628 , 0.5882353 , 0.6313726 , 1.        ],\n",
       "        [0.57254905, 0.5803922 , 0.6039216 , 1.        ]],\n",
       "\n",
       "       [[0.28235295, 0.34509805, 0.39607844, 1.        ],\n",
       "        [0.28627452, 0.34901962, 0.40392157, 1.        ],\n",
       "        [0.2901961 , 0.3529412 , 0.40392157, 1.        ],\n",
       "        ...,\n",
       "        [0.5568628 , 0.6       , 0.6627451 , 1.        ],\n",
       "        [0.5686275 , 0.5921569 , 0.63529414, 1.        ],\n",
       "        [0.5803922 , 0.58431375, 0.6039216 , 1.        ]],\n",
       "\n",
       "       ...,\n",
       "\n",
       "       [[0.64705884, 0.6039216 , 0.59607846, 1.        ],\n",
       "        [0.6509804 , 0.59607846, 0.5921569 , 1.        ],\n",
       "        [0.64705884, 0.5921569 , 0.5882353 , 1.        ],\n",
       "        ...,\n",
       "        [0.4862745 , 0.47843137, 0.48235294, 1.        ],\n",
       "        [0.49411765, 0.4862745 , 0.49411765, 1.        ],\n",
       "        [0.49803922, 0.49019608, 0.5019608 , 1.        ]],\n",
       "\n",
       "       [[0.6431373 , 0.6       , 0.5921569 , 1.        ],\n",
       "        [0.6431373 , 0.6       , 0.5921569 , 1.        ],\n",
       "        [0.6431373 , 0.6       , 0.5921569 , 1.        ],\n",
       "        ...,\n",
       "        [0.49411765, 0.47843137, 0.47843137, 1.        ],\n",
       "        [0.49803922, 0.48235294, 0.49411765, 1.        ],\n",
       "        [0.5019608 , 0.49019608, 0.5058824 , 1.        ]],\n",
       "\n",
       "       [[0.6313726 , 0.5921569 , 0.58431375, 1.        ],\n",
       "        [0.6431373 , 0.6       , 0.5921569 , 1.        ],\n",
       "        [0.6431373 , 0.6       , 0.5921569 , 1.        ],\n",
       "        ...,\n",
       "        [0.50980395, 0.49411765, 0.49019608, 1.        ],\n",
       "        [0.5137255 , 0.49803922, 0.50980395, 1.        ],\n",
       "        [0.52156866, 0.5019608 , 0.52156866, 1.        ]]], dtype=float32)"
      ]
     },
     "execution_count": 122,
     "metadata": {},
     "output_type": "execute_result"
    }
   ],
   "source": [
    "img_arr"
   ]
  },
  {
   "cell_type": "code",
   "execution_count": 123,
   "id": "d6b374e7",
   "metadata": {},
   "outputs": [
    {
     "data": {
      "text/plain": [
       "(536, 680, 4)"
      ]
     },
     "execution_count": 123,
     "metadata": {},
     "output_type": "execute_result"
    }
   ],
   "source": [
    "img_arr.shape"
   ]
  },
  {
   "cell_type": "code",
   "execution_count": 125,
   "id": "112f950a",
   "metadata": {},
   "outputs": [
    {
     "data": {
      "text/plain": [
       "3"
      ]
     },
     "execution_count": 125,
     "metadata": {},
     "output_type": "execute_result"
    }
   ],
   "source": [
    "img_arr.ndim"
   ]
  },
  {
   "cell_type": "code",
   "execution_count": 126,
   "id": "9e6a3eb6",
   "metadata": {},
   "outputs": [
    {
     "data": {
      "text/plain": [
       "1457920"
      ]
     },
     "execution_count": 126,
     "metadata": {},
     "output_type": "execute_result"
    }
   ],
   "source": [
    "img_arr.size"
   ]
  },
  {
   "cell_type": "code",
   "execution_count": 127,
   "id": "34069923",
   "metadata": {},
   "outputs": [
    {
     "data": {
      "text/plain": [
       "array([[[0.30588236, 0.36862746, 0.43137255, 1.        ],\n",
       "        [0.30980393, 0.37254903, 0.43529412, 1.        ],\n",
       "        [0.3137255 , 0.3764706 , 0.4392157 , 1.        ],\n",
       "        ...,\n",
       "        [0.54509807, 0.5921569 , 0.65882355, 1.        ],\n",
       "        [0.5568628 , 0.58431375, 0.6313726 , 1.        ],\n",
       "        [0.5686275 , 0.5803922 , 0.6       , 1.        ]],\n",
       "\n",
       "       [[0.28627452, 0.34901962, 0.40784314, 1.        ],\n",
       "        [0.29411766, 0.35686275, 0.41568628, 1.        ],\n",
       "        [0.29803923, 0.36078432, 0.41960785, 1.        ],\n",
       "        ...,\n",
       "        [0.54901963, 0.59607846, 0.6627451 , 1.        ],\n",
       "        [0.5568628 , 0.5882353 , 0.6313726 , 1.        ],\n",
       "        [0.57254905, 0.5803922 , 0.6039216 , 1.        ]],\n",
       "\n",
       "       [[0.28235295, 0.34509805, 0.39607844, 1.        ],\n",
       "        [0.28627452, 0.34901962, 0.40392157, 1.        ],\n",
       "        [0.2901961 , 0.3529412 , 0.40392157, 1.        ],\n",
       "        ...,\n",
       "        [0.5568628 , 0.6       , 0.6627451 , 1.        ],\n",
       "        [0.5686275 , 0.5921569 , 0.63529414, 1.        ],\n",
       "        [0.5803922 , 0.58431375, 0.6039216 , 1.        ]],\n",
       "\n",
       "       [[0.26666668, 0.32941177, 0.38039216, 1.        ],\n",
       "        [0.27058825, 0.3372549 , 0.38431373, 1.        ],\n",
       "        [0.27058825, 0.3372549 , 0.38431373, 1.        ],\n",
       "        ...,\n",
       "        [0.5647059 , 0.60784316, 0.6666667 , 1.        ],\n",
       "        [0.5764706 , 0.59607846, 0.6313726 , 1.        ],\n",
       "        [0.5882353 , 0.58431375, 0.6039216 , 1.        ]],\n",
       "\n",
       "       [[0.25882354, 0.32941177, 0.38039216, 1.        ],\n",
       "        [0.2627451 , 0.3254902 , 0.38431373, 1.        ],\n",
       "        [0.2627451 , 0.32941177, 0.3764706 , 1.        ],\n",
       "        ...,\n",
       "        [0.57254905, 0.6117647 , 0.65882355, 1.        ],\n",
       "        [0.58431375, 0.59607846, 0.627451  , 1.        ],\n",
       "        [0.6       , 0.58431375, 0.59607846, 1.        ]]], dtype=float32)"
      ]
     },
     "execution_count": 127,
     "metadata": {},
     "output_type": "execute_result"
    }
   ],
   "source": [
    "img_arr[:5]"
   ]
  },
  {
   "cell_type": "code",
   "execution_count": null,
   "id": "67a71da1",
   "metadata": {},
   "outputs": [],
   "source": []
  }
 ],
 "metadata": {
  "kernelspec": {
   "display_name": "Python 3 (ipykernel)",
   "language": "python",
   "name": "python3"
  },
  "language_info": {
   "codemirror_mode": {
    "name": "ipython",
    "version": 3
   },
   "file_extension": ".py",
   "mimetype": "text/x-python",
   "name": "python",
   "nbconvert_exporter": "python",
   "pygments_lexer": "ipython3",
   "version": "3.11.5"
  }
 },
 "nbformat": 4,
 "nbformat_minor": 5
}
